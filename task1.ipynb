{
  "nbformat": 4,
  "nbformat_minor": 0,
  "metadata": {
    "kernelspec": {
      "display_name": "Python 3.8.2 64-bit",
      "language": "python",
      "name": "python38264bitf15a5683bfb04b0aaa549ad3333bcd40"
    },
    "language_info": {
      "codemirror_mode": {
        "name": "ipython",
        "version": 3
      },
      "file_extension": ".py",
      "mimetype": "text/x-python",
      "name": "python",
      "nbconvert_exporter": "python",
      "pygments_lexer": "ipython3",
      "version": "3.8.5"
    },
    "colab": {
      "name": "task1.ipynb",
      "provenance": [],
      "collapsed_sections": []
    }
  },
  "cells": [
    {
      "cell_type": "code",
      "metadata": {
        "id": "mJE5rOHM6Ks4"
      },
      "source": [
        "from sklearn.neighbors import DistanceMetric\n",
        "dist = DistanceMetric.get_metric(\"euclidean\")\n",
        "x = [[0,0,0]]\n",
        "y = [[0.5,0.5,0.5]]\n",
        "z = [[0.1,0.5,0.1]]"
      ],
      "execution_count": 2,
      "outputs": []
    },
    {
      "cell_type": "code",
      "metadata": {
        "id": "hAGfFSOk6KtM",
        "outputId": "dddb85b7-5a28-4483-a840-d48d6938c541",
        "colab": {
          "base_uri": "https://localhost:8080/"
        }
      },
      "source": [
        "# distance b/w x and z for class c1\n",
        "c1 = dist.pairwise(x,z)\n",
        "\n",
        "#distance b/w y and z for class c2\n",
        "c2 = dist.pairwise(y,z)\n",
        "print(c1,c2)"
      ],
      "execution_count": 3,
      "outputs": [
        {
          "output_type": "stream",
          "text": [
            "[[0.51961524]] [[0.56568542]]\n"
          ],
          "name": "stdout"
        }
      ]
    },
    {
      "cell_type": "code",
      "metadata": {
        "id": "rveS_RYz6KtX"
      },
      "source": [
        "# since c1<c2. Therefore the given point belongs to c1"
      ],
      "execution_count": 4,
      "outputs": []
    },
    {
      "cell_type": "code",
      "metadata": {
        "id": "zHFY75qC6Ktj",
        "outputId": "4c437868-da81-4e7c-94f1-b6c042fc4c4b",
        "colab": {
          "base_uri": "https://localhost:8080/"
        }
      },
      "source": [
        "import numpy as np\n",
        "cov_matrix = np.asarray([[0.8,0.01,0.01],[0.01,0.2,0.01],[0.01,0.01,0.2]])\n",
        "cov_matrix"
      ],
      "execution_count": 6,
      "outputs": [
        {
          "output_type": "execute_result",
          "data": {
            "text/plain": [
              "array([[0.8 , 0.01, 0.01],\n",
              "       [0.01, 0.2 , 0.01],\n",
              "       [0.01, 0.01, 0.2 ]])"
            ]
          },
          "metadata": {
            "tags": []
          },
          "execution_count": 6
        }
      ]
    },
    {
      "cell_type": "code",
      "metadata": {
        "id": "EhCbu9Wg6Kts",
        "outputId": "44869b2b-ee83-4cb2-893d-924bc6606c6d",
        "colab": {
          "base_uri": "https://localhost:8080/"
        }
      },
      "source": [
        "dist_M = DistanceMetric.get_metric(\"mahalanobis\",V=cov_matrix)\n",
        "c1 = dist_M.pairwise(x,z)\n",
        "c2 = dist_M.pairwise(y,z)\n",
        "print(c1,c2)"
      ],
      "execution_count": 7,
      "outputs": [
        {
          "output_type": "stream",
          "text": [
            "[[1.13339342]] [[0.99177978]]\n"
          ],
          "name": "stdout"
        }
      ]
    },
    {
      "cell_type": "code",
      "metadata": {
        "id": "DbCl6uf86Kty"
      },
      "source": [
        "#since c1>c2. Therefore the given point belongs to c2"
      ],
      "execution_count": null,
      "outputs": []
    }
  ]
}